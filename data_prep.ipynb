{
 "cells": [
  {
   "cell_type": "code",
   "execution_count": null,
   "metadata": {},
   "outputs": [],
   "source": [
    "import pandas as pd\n",
    "import numpy as np\n",
    "import ast"
   ]
  },
  {
   "attachments": {},
   "cell_type": "markdown",
   "metadata": {},
   "source": [
    "## Loading Movie Meta Data"
   ]
  },
  {
   "cell_type": "code",
   "execution_count": 174,
   "metadata": {},
   "outputs": [
    {
     "name": "stderr",
     "output_type": "stream",
     "text": [
      "/var/folders/5w/zg23p5bd3bnc86d75_pkn99m0000gn/T/ipykernel_10120/4212106273.py:3: DtypeWarning: Columns (10) have mixed types. Specify dtype option on import or set low_memory=False.\n",
      "  df_meta = pd.read_csv(path+movie_meta_file)\n"
     ]
    }
   ],
   "source": [
    "path = \"../data\"\n",
    "movie_meta_file = \"/movies_metadata.csv\"\n",
    "df_meta = pd.read_csv(path+movie_meta_file)"
   ]
  },
  {
   "cell_type": "code",
   "execution_count": 173,
   "metadata": {},
   "outputs": [
    {
     "data": {
      "text/plain": [
       "Index(['adult', 'belongs_to_collection', 'budget', 'genres', 'homepage', 'id',\n",
       "       'imdb_id', 'original_language', 'original_title', 'overview',\n",
       "       'popularity', 'poster_path', 'production_companies',\n",
       "       'production_countries', 'release_date', 'revenue', 'runtime',\n",
       "       'spoken_languages', 'status', 'tagline', 'title', 'video',\n",
       "       'vote_average', 'vote_count'],\n",
       "      dtype='object')"
      ]
     },
     "execution_count": 173,
     "metadata": {},
     "output_type": "execute_result"
    }
   ],
   "source": [
    "df_meta.columns"
   ]
  },
  {
   "cell_type": "code",
   "execution_count": 175,
   "metadata": {},
   "outputs": [],
   "source": [
    "\n",
    "df_meta = df_meta.drop([19730, 29503, 35587]) # drop invalid movies\n",
    "df_meta = df_meta.set_index(df_meta['id'].str.strip().replace(',','').astype(int)) \n",
    "\n",
    "\n",
    "# Extract important features\n",
    "meta_features = ['genres', 'imdb_id', 'original_language', 'revenue', 'release_date', 'spoken_languages', 'title', 'vote_average', 'vote_count', 'overview', 'poster_path', 'popularity']\n",
    "meta = df_meta[meta_features]"
   ]
  },
  {
   "attachments": {},
   "cell_type": "markdown",
   "metadata": {},
   "source": [
    "## Credits and Keywords"
   ]
  },
  {
   "cell_type": "code",
   "execution_count": 176,
   "metadata": {},
   "outputs": [],
   "source": [
    "# credits \n",
    "credits = pd.read_csv(path+ \"/credits.csv\")\n",
    "\n",
    "# Create col for directors\n",
    "df_credits = credits.set_index('id') # set index to movie_id \n",
    "\n",
    "\n",
    "# Keywords \n",
    "df_keywords = pd.read_csv(path + \"/keywords.csv\")\n",
    "df_keywords = df_keywords.set_index('id')  # set index to movie_id\n",
    "\n",
    "\n",
    "# Merging datasets\n",
    "df_key_credit = df_keywords.merge(df_credits, left_index=True, right_on='id')\n",
    "df = df_key_credit.merge(meta, left_index=True, right_on='id')\n",
    "\n",
    "df.drop_duplicates(inplace=True)\n",
    "\n",
    "df['Director'] = df['crew'].apply(lambda x:[dct['name'] for dct in ast.literal_eval(x) if dct['job'] == 'Director'])\n",
    "df.drop(['crew'], axis=1, inplace=True) # drop crew\n"
   ]
  },
  {
   "attachments": {},
   "cell_type": "markdown",
   "metadata": {},
   "source": [
    "## Data Cleaning"
   ]
  },
  {
   "cell_type": "code",
   "execution_count": 177,
   "metadata": {},
   "outputs": [],
   "source": [
    "# Retrieving releavant data \n",
    "df['genres'] = df['genres'].apply(lambda x: [i['name'] for i in ast.literal_eval(x)]) # Returns a list of genres\n",
    "\n",
    "df['release_date'] = pd.to_datetime(df['release_date'], errors='coerce').apply(lambda x: str(x).split('-')[0] if x != np.nan else np.nan) # returns the year of release\n",
    "\n",
    "# Keyword extraction and cleanup\n",
    "df['keywords'] = df['keywords'].apply(lambda x: [i['name'] for i in ast.literal_eval(x)])\n",
    "df['keywords'] = df['keywords'].apply(lambda x: ' '.join([i.replace(\" \", \"\") for i in x]))\n",
    "df['keywords'].fillna(\"\", inplace=True) # replace missing values with empty string\n",
    "\n",
    "# extract the overview\n",
    "df['overview'] = df['overview'].fillna('') # will be used for text processing\n",
    "\n",
    "# Extract cast\n",
    "df['cast'] = df['cast'].apply(lambda x: [i['name'] for i in eval(x)]) \n",
    "df['cast'] = df['cast'].apply(lambda x: ' '.join([i.replace(\" \", \"\") for i in x]))\n",
    "df['cast'].fillna(\"\", inplace=True) # replace missing values with empty string\n",
    "\n",
    "\n",
    "\n",
    "df = df[(df['genres'].str.len() != 0) & (df['Director'].str.len() != 0)] # remove movies with no directors or genres recorded\n",
    "\n",
    "df.reset_index(inplace=True) # reset index\n",
    "\n",
    "\n"
   ]
  },
  {
   "cell_type": "code",
   "execution_count": 154,
   "metadata": {},
   "outputs": [],
   "source": [
    "df = df[df['vote_count'] > 5] # remove movies with a vote_count less than 5"
   ]
  },
  {
   "cell_type": "code",
   "execution_count": 178,
   "metadata": {},
   "outputs": [],
   "source": [
    "\n",
    "str_cols = [\"keywords\", \"cast\", \"genres\", \"release_date\", \"title\", \n",
    "            \"overview\", \"cast\", \"Director\"]\n",
    "\n",
    "new_data_types = {col:'str' for col in str_cols}\n",
    "df = df.astype(new_data_types)"
   ]
  },
  {
   "attachments": {},
   "cell_type": "markdown",
   "metadata": {},
   "source": [
    "### Converting final dataframe to csv file"
   ]
  },
  {
   "cell_type": "code",
   "execution_count": 179,
   "metadata": {},
   "outputs": [],
   "source": [
    "df.to_csv(\"data/final_movie.csv\",index=False)"
   ]
  }
 ],
 "metadata": {
  "kernelspec": {
   "display_name": "Python 3",
   "language": "python",
   "name": "python3"
  },
  "language_info": {
   "codemirror_mode": {
    "name": "ipython",
    "version": 3
   },
   "file_extension": ".py",
   "mimetype": "text/x-python",
   "name": "python",
   "nbconvert_exporter": "python",
   "pygments_lexer": "ipython3",
   "version": "3.10.4"
  },
  "orig_nbformat": 4
 },
 "nbformat": 4,
 "nbformat_minor": 2
}
