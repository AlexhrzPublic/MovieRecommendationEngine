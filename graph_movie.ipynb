{
 "cells": [
  {
   "cell_type": "code",
   "execution_count": 27,
   "metadata": {},
   "outputs": [],
   "source": [
    "import pandas as pd\n",
    "from neo4j import GraphDatabase\n",
    "import csv\n",
    "from sklearn.metrics.pairwise import cosine_similarity\n",
    "from sklearn.metrics.pairwise import pairwise_distances\n",
    "import ast\n"
   ]
  },
  {
   "cell_type": "code",
   "execution_count": 65,
   "metadata": {},
   "outputs": [],
   "source": [
    "df = pd.read_csv(\"final_movie.csv\")\n",
    "\n",
    "df.head(5)\n",
    "\n",
    "df = df[(df['genres'].str.strip() != \"[]\") & (df['Director'].str.strip() != \"[]\")]\n"
   ]
  },
  {
   "cell_type": "code",
   "execution_count": 67,
   "metadata": {},
   "outputs": [],
   "source": [
    "# Sampling data\n",
    "df_movies = df.copy()\n",
    "sub_df = df_movies.sample(n=1000, random_state=42)\n"
   ]
  },
  {
   "cell_type": "code",
   "execution_count": 70,
   "metadata": {},
   "outputs": [],
   "source": [
    "# get unique genres\n",
    "genres = []\n",
    "sub_df['genres'].apply(lambda row: genres.extend(ast.literal_eval(row)))\n",
    "\n",
    "# get unique directors\n",
    "directors = []\n",
    "sub_df['Director'].apply(lambda row: directors.extend(ast.literal_eval(row)))\n",
    "\n",
    "\n",
    "genres = set(genres)\n",
    "directors = set(directors)"
   ]
  },
  {
   "attachments": {},
   "cell_type": "markdown",
   "metadata": {},
   "source": [
    "## Setting up graph database"
   ]
  },
  {
   "cell_type": "code",
   "execution_count": 10,
   "metadata": {},
   "outputs": [],
   "source": [
    "uri = \"neo4j://localhost:7687\"\n",
    "user = \"neo4j\"\n",
    "password = \"vampire-float-olivia-maestro-sleep-4222\" \n",
    "\n",
    "#### Make sure you can run this on your browser - initiate a Neo4j server ####"
   ]
  },
  {
   "cell_type": "code",
   "execution_count": 11,
   "metadata": {},
   "outputs": [],
   "source": [
    "driver = GraphDatabase.driver(uri, auth=(user, password))"
   ]
  },
  {
   "cell_type": "code",
   "execution_count": 43,
   "metadata": {},
   "outputs": [
    {
     "name": "stderr",
     "output_type": "stream",
     "text": [
      "/var/folders/5w/zg23p5bd3bnc86d75_pkn99m0000gn/T/ipykernel_98724/3803800313.py:6: DeprecationWarning: write_transaction has been renamed to execute_write\n",
      "  session.write_transaction(delete_all_data)\n"
     ]
    }
   ],
   "source": [
    "# kill switch\n",
    "def delete_all_data(tx):\n",
    "    tx.run(\"MATCH (n) DETACH DELETE n\")\n",
    "\n",
    "with driver.session() as session:\n",
    "    session.write_transaction(delete_all_data)\n",
    "\n",
    "driver.close()"
   ]
  },
  {
   "attachments": {},
   "cell_type": "markdown",
   "metadata": {},
   "source": [
    "### Movie node"
   ]
  },
  {
   "cell_type": "code",
   "execution_count": 44,
   "metadata": {},
   "outputs": [
    {
     "name": "stderr",
     "output_type": "stream",
     "text": [
      "/var/folders/5w/zg23p5bd3bnc86d75_pkn99m0000gn/T/ipykernel_98724/556782445.py:16: DeprecationWarning: write_transaction has been renamed to execute_write\n",
      "  session.write_transaction(create_movie_node, row)\n"
     ]
    }
   ],
   "source": [
    "def create_movie_node(tx, row):\n",
    "    tx.run(\"\"\"\n",
    "    CREATE (:movie {\n",
    "            title: $title,\n",
    "            overview: $overview,\n",
    "            vote_average: $vote_average, \n",
    "            vote_count: $vote_count\n",
    "\n",
    "    })\n",
    "    \"\"\", title=row['title'], overview=row['overview'], vote_average=row['vote_average'],\n",
    "                vote_count=row['vote_count'])\n",
    "    \n",
    "\n",
    "with driver.session() as session:\n",
    "    for index, row in sub_df.iterrows():\n",
    "        session.write_transaction(create_movie_node, row)\n",
    "\n",
    "    "
   ]
  },
  {
   "attachments": {},
   "cell_type": "markdown",
   "metadata": {},
   "source": [
    "### Director Node"
   ]
  },
  {
   "cell_type": "code",
   "execution_count": null,
   "metadata": {},
   "outputs": [],
   "source": [
    "def create_director_node(tx, row):\n",
    "    pass"
   ]
  }
 ],
 "metadata": {
  "kernelspec": {
   "display_name": "Python 3",
   "language": "python",
   "name": "python3"
  },
  "language_info": {
   "codemirror_mode": {
    "name": "ipython",
    "version": 3
   },
   "file_extension": ".py",
   "mimetype": "text/x-python",
   "name": "python",
   "nbconvert_exporter": "python",
   "pygments_lexer": "ipython3",
   "version": "3.10.4"
  },
  "orig_nbformat": 4
 },
 "nbformat": 4,
 "nbformat_minor": 2
}
